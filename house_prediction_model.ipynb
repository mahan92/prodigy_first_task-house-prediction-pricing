{
 "cells": [
  {
   "cell_type": "code",
   "execution_count": null,
   "id": "2095c27e",
   "metadata": {
    "_cell_guid": "b1076dfc-b9ad-4769-8c92-a6c4dae69d19",
    "_uuid": "8f2839f25d086af736a60e9eeb907d3b93b6e0e5",
    "execution": {
     "iopub.execute_input": "2024-06-14T08:20:14.627840Z",
     "iopub.status.busy": "2024-06-14T08:20:14.626947Z",
     "iopub.status.idle": "2024-06-14T08:20:15.360451Z",
     "shell.execute_reply": "2024-06-14T08:20:15.359412Z"
    },
    "papermill": {
     "duration": 0.755237,
     "end_time": "2024-06-14T08:20:15.362908",
     "exception": false,
     "start_time": "2024-06-14T08:20:14.607671",
     "status": "completed"
    },
    "tags": []
   },
   "outputs": [],
   "source": [
    "\n",
    "import numpy as np\n",
    "import pandas as pd \n"
   ]
  },
  {
   "cell_type": "code",
   "execution_count": null,
   "id": "6221e260",
   "metadata": {},
   "outputs": [],
   "source": [
    "!pip install seaborn"
   ]
  },
  {
   "cell_type": "code",
   "execution_count": null,
   "id": "7ce9d337",
   "metadata": {
    "execution": {
     "iopub.execute_input": "2024-06-14T08:20:15.401952Z",
     "iopub.status.busy": "2024-06-14T08:20:15.401485Z",
     "iopub.status.idle": "2024-06-14T08:20:28.145285Z",
     "shell.execute_reply": "2024-06-14T08:20:28.144294Z"
    },
    "papermill": {
     "duration": 12.765949,
     "end_time": "2024-06-14T08:20:28.148195",
     "exception": false,
     "start_time": "2024-06-14T08:20:15.382246",
     "status": "completed"
    },
    "tags": []
   },
   "outputs": [],
   "source": [
    "import pandas as pd\n",
    "import numpy as np\n",
    "import tensorflow as tf\n"
   ]
  },
  {
   "cell_type": "code",
   "execution_count": null,
   "id": "2cda0fe7",
   "metadata": {
    "execution": {
     "iopub.execute_input": "2024-06-14T08:20:28.185181Z",
     "iopub.status.busy": "2024-06-14T08:20:28.184555Z",
     "iopub.status.idle": "2024-06-14T08:20:28.258348Z",
     "shell.execute_reply": "2024-06-14T08:20:28.257350Z"
    },
    "papermill": {
     "duration": 0.094936,
     "end_time": "2024-06-14T08:20:28.260701",
     "exception": false,
     "start_time": "2024-06-14T08:20:28.165765",
     "status": "completed"
    },
    "tags": []
   },
   "outputs": [],
   "source": [
    "sample_submission=pd.read_csv(r\"C:\\Users\\suhas\\OneDrive\\Documents\\projects\\prodigy\\first prj\\house-prices-advanced-regression-techniques\\sample_submission.csv\")\n",
    "train=pd.read_csv(r\"C:\\Users\\suhas\\OneDrive\\Documents\\projects\\prodigy\\first prj\\house-prices-advanced-regression-techniques\\train.csv\")\n",
    "test=pd.read_csv(r\"C:\\Users\\suhas\\OneDrive\\Documents\\projects\\prodigy\\first prj\\house-prices-advanced-regression-techniques\\test.csv\")"
   ]
  },
  {
   "cell_type": "code",
   "execution_count": null,
   "id": "cc4d0532",
   "metadata": {
    "execution": {
     "iopub.execute_input": "2024-06-14T08:20:28.297361Z",
     "iopub.status.busy": "2024-06-14T08:20:28.296955Z",
     "iopub.status.idle": "2024-06-14T08:20:28.305678Z",
     "shell.execute_reply": "2024-06-14T08:20:28.304700Z"
    },
    "papermill": {
     "duration": 0.029302,
     "end_time": "2024-06-14T08:20:28.307601",
     "exception": false,
     "start_time": "2024-06-14T08:20:28.278299",
     "status": "completed"
    },
    "tags": []
   },
   "outputs": [],
   "source": [
    "train.columns"
   ]
  },
  {
   "cell_type": "code",
   "execution_count": null,
   "id": "792d9d10",
   "metadata": {
    "execution": {
     "iopub.execute_input": "2024-06-14T08:20:28.344329Z",
     "iopub.status.busy": "2024-06-14T08:20:28.343924Z",
     "iopub.status.idle": "2024-06-14T08:20:28.356451Z",
     "shell.execute_reply": "2024-06-14T08:20:28.355259Z"
    },
    "papermill": {
     "duration": 0.03361,
     "end_time": "2024-06-14T08:20:28.358800",
     "exception": false,
     "start_time": "2024-06-14T08:20:28.325190",
     "status": "completed"
    },
    "tags": []
   },
   "outputs": [],
   "source": [
    "train['Electrical']"
   ]
  },
  {
   "cell_type": "code",
   "execution_count": null,
   "id": "bda0831e",
   "metadata": {
    "execution": {
     "iopub.execute_input": "2024-06-14T08:20:28.396970Z",
     "iopub.status.busy": "2024-06-14T08:20:28.396054Z",
     "iopub.status.idle": "2024-06-14T08:20:28.406998Z",
     "shell.execute_reply": "2024-06-14T08:20:28.405947Z"
    },
    "papermill": {
     "duration": 0.032648,
     "end_time": "2024-06-14T08:20:28.409393",
     "exception": false,
     "start_time": "2024-06-14T08:20:28.376745",
     "status": "completed"
    },
    "tags": []
   },
   "outputs": [],
   "source": [
    "y=train['SalePrice']\n",
    "X=train.drop('SalePrice',axis=1)"
   ]
  },
  {
   "cell_type": "code",
   "execution_count": null,
   "id": "5e5770a3",
   "metadata": {
    "execution": {
     "iopub.execute_input": "2024-06-14T08:20:28.446613Z",
     "iopub.status.busy": "2024-06-14T08:20:28.445597Z",
     "iopub.status.idle": "2024-06-14T08:20:28.451986Z",
     "shell.execute_reply": "2024-06-14T08:20:28.451107Z"
    },
    "papermill": {
     "duration": 0.027093,
     "end_time": "2024-06-14T08:20:28.454106",
     "exception": false,
     "start_time": "2024-06-14T08:20:28.427013",
     "status": "completed"
    },
    "tags": []
   },
   "outputs": [],
   "source": [
    "len(train.columns),len(X.columns)"
   ]
  },
  {
   "cell_type": "code",
   "execution_count": null,
   "id": "dd47ba76",
   "metadata": {
    "execution": {
     "iopub.execute_input": "2024-06-14T08:20:28.491455Z",
     "iopub.status.busy": "2024-06-14T08:20:28.490689Z",
     "iopub.status.idle": "2024-06-14T08:20:28.497400Z",
     "shell.execute_reply": "2024-06-14T08:20:28.496500Z"
    },
    "papermill": {
     "duration": 0.027767,
     "end_time": "2024-06-14T08:20:28.499421",
     "exception": false,
     "start_time": "2024-06-14T08:20:28.471654",
     "status": "completed"
    },
    "tags": []
   },
   "outputs": [],
   "source": [
    "X.columns"
   ]
  },
  {
   "cell_type": "code",
   "execution_count": null,
   "id": "71a3eccd",
   "metadata": {
    "execution": {
     "iopub.execute_input": "2024-06-14T08:20:28.537036Z",
     "iopub.status.busy": "2024-06-14T08:20:28.536361Z",
     "iopub.status.idle": "2024-06-14T08:20:28.543591Z",
     "shell.execute_reply": "2024-06-14T08:20:28.542646Z"
    },
    "papermill": {
     "duration": 0.028497,
     "end_time": "2024-06-14T08:20:28.545838",
     "exception": false,
     "start_time": "2024-06-14T08:20:28.517341",
     "status": "completed"
    },
    "tags": []
   },
   "outputs": [],
   "source": [
    "y"
   ]
  },
  {
   "cell_type": "code",
   "execution_count": null,
   "id": "0cc6ed78",
   "metadata": {
    "execution": {
     "iopub.execute_input": "2024-06-14T08:20:28.583324Z",
     "iopub.status.busy": "2024-06-14T08:20:28.582818Z",
     "iopub.status.idle": "2024-06-14T08:20:28.599135Z",
     "shell.execute_reply": "2024-06-14T08:20:28.598286Z"
    },
    "papermill": {
     "duration": 0.037741,
     "end_time": "2024-06-14T08:20:28.601474",
     "exception": false,
     "start_time": "2024-06-14T08:20:28.563733",
     "status": "completed"
    },
    "tags": []
   },
   "outputs": [],
   "source": [
    "X=X.dropna(axis=1)\n",
    "test=test.dropna(axis=1)"
   ]
  },
  {
   "cell_type": "code",
   "execution_count": null,
   "id": "b4ac01d7",
   "metadata": {
    "execution": {
     "iopub.execute_input": "2024-06-14T08:20:28.692595Z",
     "iopub.status.busy": "2024-06-14T08:20:28.692223Z",
     "iopub.status.idle": "2024-06-14T08:20:28.698514Z",
     "shell.execute_reply": "2024-06-14T08:20:28.697553Z"
    },
    "papermill": {
     "duration": 0.081494,
     "end_time": "2024-06-14T08:20:28.701016",
     "exception": false,
     "start_time": "2024-06-14T08:20:28.619522",
     "status": "completed"
    },
    "tags": []
   },
   "outputs": [],
   "source": [
    "len(X.columns),len(test.columns)"
   ]
  },
  {
   "cell_type": "code",
   "execution_count": null,
   "id": "809cebe2",
   "metadata": {
    "execution": {
     "iopub.execute_input": "2024-06-14T08:20:28.738816Z",
     "iopub.status.busy": "2024-06-14T08:20:28.738448Z",
     "iopub.status.idle": "2024-06-14T08:20:28.745109Z",
     "shell.execute_reply": "2024-06-14T08:20:28.744117Z"
    },
    "papermill": {
     "duration": 0.028072,
     "end_time": "2024-06-14T08:20:28.747246",
     "exception": false,
     "start_time": "2024-06-14T08:20:28.719174",
     "status": "completed"
    },
    "tags": []
   },
   "outputs": [],
   "source": [
    "list(set(X.columns)-set(test.columns))"
   ]
  },
  {
   "cell_type": "code",
   "execution_count": null,
   "id": "6560410c",
   "metadata": {
    "execution": {
     "iopub.execute_input": "2024-06-14T08:20:28.785516Z",
     "iopub.status.busy": "2024-06-14T08:20:28.784580Z",
     "iopub.status.idle": "2024-06-14T08:20:28.791454Z",
     "shell.execute_reply": "2024-06-14T08:20:28.790295Z"
    },
    "papermill": {
     "duration": 0.02817,
     "end_time": "2024-06-14T08:20:28.793580",
     "exception": false,
     "start_time": "2024-06-14T08:20:28.765410",
     "status": "completed"
    },
    "tags": []
   },
   "outputs": [],
   "source": [
    "X=X.drop(['TotalBsmtSF',\n",
    " 'KitchenQual',\n",
    " 'GarageCars',\n",
    " 'Utilities',\n",
    " 'Functional',\n",
    " 'Exterior2nd',\n",
    " 'Exterior1st',\n",
    " 'BsmtFinSF1',\n",
    " 'BsmtHalfBath',\n",
    " 'BsmtFinSF2',\n",
    " 'BsmtUnfSF',\n",
    " 'SaleType',\n",
    " 'BsmtFullBath',\n",
    " 'GarageArea',\n",
    " 'MSZoning'],axis=1)"
   ]
  },
  {
   "cell_type": "code",
   "execution_count": null,
   "id": "f26ef5ed",
   "metadata": {
    "execution": {
     "iopub.execute_input": "2024-06-14T08:20:28.831850Z",
     "iopub.status.busy": "2024-06-14T08:20:28.830966Z",
     "iopub.status.idle": "2024-06-14T08:20:28.837496Z",
     "shell.execute_reply": "2024-06-14T08:20:28.836445Z"
    },
    "papermill": {
     "duration": 0.027915,
     "end_time": "2024-06-14T08:20:28.839599",
     "exception": false,
     "start_time": "2024-06-14T08:20:28.811684",
     "status": "completed"
    },
    "tags": []
   },
   "outputs": [],
   "source": [
    "len(X.columns),len(test.columns)"
   ]
  },
  {
   "cell_type": "code",
   "execution_count": null,
   "id": "da62f32e",
   "metadata": {
    "execution": {
     "iopub.execute_input": "2024-06-14T08:20:28.878903Z",
     "iopub.status.busy": "2024-06-14T08:20:28.878076Z",
     "iopub.status.idle": "2024-06-14T08:20:28.884721Z",
     "shell.execute_reply": "2024-06-14T08:20:28.883785Z"
    },
    "papermill": {
     "duration": 0.028296,
     "end_time": "2024-06-14T08:20:28.886783",
     "exception": false,
     "start_time": "2024-06-14T08:20:28.858487",
     "status": "completed"
    },
    "tags": []
   },
   "outputs": [],
   "source": [
    "set(test.columns)-set(X.columns)"
   ]
  },
  {
   "cell_type": "code",
   "execution_count": null,
   "id": "950a827d",
   "metadata": {
    "execution": {
     "iopub.execute_input": "2024-06-14T08:20:28.925688Z",
     "iopub.status.busy": "2024-06-14T08:20:28.925333Z",
     "iopub.status.idle": "2024-06-14T08:20:28.931295Z",
     "shell.execute_reply": "2024-06-14T08:20:28.930242Z"
    },
    "papermill": {
     "duration": 0.027651,
     "end_time": "2024-06-14T08:20:28.933365",
     "exception": false,
     "start_time": "2024-06-14T08:20:28.905714",
     "status": "completed"
    },
    "tags": []
   },
   "outputs": [],
   "source": [
    "test=test.drop(['Electrical'],axis=1)"
   ]
  },
  {
   "cell_type": "code",
   "execution_count": null,
   "id": "70e975ff",
   "metadata": {
    "execution": {
     "iopub.execute_input": "2024-06-14T08:20:28.974125Z",
     "iopub.status.busy": "2024-06-14T08:20:28.973236Z",
     "iopub.status.idle": "2024-06-14T08:20:28.979867Z",
     "shell.execute_reply": "2024-06-14T08:20:28.978972Z"
    },
    "papermill": {
     "duration": 0.028477,
     "end_time": "2024-06-14T08:20:28.982004",
     "exception": false,
     "start_time": "2024-06-14T08:20:28.953527",
     "status": "completed"
    },
    "tags": []
   },
   "outputs": [],
   "source": [
    "len(test.columns),len(X.columns)"
   ]
  },
  {
   "cell_type": "code",
   "execution_count": null,
   "id": "986a0021",
   "metadata": {
    "execution": {
     "iopub.execute_input": "2024-06-14T08:20:29.020679Z",
     "iopub.status.busy": "2024-06-14T08:20:29.020302Z",
     "iopub.status.idle": "2024-06-14T08:20:29.027634Z",
     "shell.execute_reply": "2024-06-14T08:20:29.026656Z"
    },
    "papermill": {
     "duration": 0.029118,
     "end_time": "2024-06-14T08:20:29.029773",
     "exception": false,
     "start_time": "2024-06-14T08:20:29.000655",
     "status": "completed"
    },
    "tags": []
   },
   "outputs": [],
   "source": [
    "categorical_columns=[col for col in X.columns if X[col].dtype=='object']\n",
    "numerical_columns=[col for col in X.columns if X[col].dtype!='object']"
   ]
  },
  {
   "cell_type": "code",
   "execution_count": null,
   "id": "32fc94af",
   "metadata": {
    "execution": {
     "iopub.execute_input": "2024-06-14T08:20:29.069349Z",
     "iopub.status.busy": "2024-06-14T08:20:29.068824Z",
     "iopub.status.idle": "2024-06-14T08:20:29.075454Z",
     "shell.execute_reply": "2024-06-14T08:20:29.074479Z"
    },
    "papermill": {
     "duration": 0.02851,
     "end_time": "2024-06-14T08:20:29.077508",
     "exception": false,
     "start_time": "2024-06-14T08:20:29.048998",
     "status": "completed"
    },
    "tags": []
   },
   "outputs": [],
   "source": [
    "categorical_columns"
   ]
  },
  {
   "cell_type": "code",
   "execution_count": null,
   "id": "a9583748",
   "metadata": {
    "execution": {
     "iopub.execute_input": "2024-06-14T08:20:29.116928Z",
     "iopub.status.busy": "2024-06-14T08:20:29.116573Z",
     "iopub.status.idle": "2024-06-14T08:20:29.123073Z",
     "shell.execute_reply": "2024-06-14T08:20:29.122105Z"
    },
    "papermill": {
     "duration": 0.028863,
     "end_time": "2024-06-14T08:20:29.125151",
     "exception": false,
     "start_time": "2024-06-14T08:20:29.096288",
     "status": "completed"
    },
    "tags": []
   },
   "outputs": [],
   "source": [
    "numerical_columns"
   ]
  },
  {
   "cell_type": "code",
   "execution_count": null,
   "id": "01b5ef41",
   "metadata": {
    "execution": {
     "iopub.execute_input": "2024-06-14T08:20:29.164158Z",
     "iopub.status.busy": "2024-06-14T08:20:29.163774Z",
     "iopub.status.idle": "2024-06-14T08:20:29.170529Z",
     "shell.execute_reply": "2024-06-14T08:20:29.169466Z"
    },
    "papermill": {
     "duration": 0.028762,
     "end_time": "2024-06-14T08:20:29.172681",
     "exception": false,
     "start_time": "2024-06-14T08:20:29.143919",
     "status": "completed"
    },
    "tags": []
   },
   "outputs": [],
   "source": [
    "len(test.columns),len(X.columns)"
   ]
  },
  {
   "cell_type": "code",
   "execution_count": null,
   "id": "e5714776",
   "metadata": {
    "execution": {
     "iopub.execute_input": "2024-06-14T08:20:29.211779Z",
     "iopub.status.busy": "2024-06-14T08:20:29.211420Z",
     "iopub.status.idle": "2024-06-14T08:20:29.217581Z",
     "shell.execute_reply": "2024-06-14T08:20:29.216632Z"
    },
    "papermill": {
     "duration": 0.028328,
     "end_time": "2024-06-14T08:20:29.219756",
     "exception": false,
     "start_time": "2024-06-14T08:20:29.191428",
     "status": "completed"
    },
    "tags": []
   },
   "outputs": [],
   "source": [
    "set(test.columns)-set(X.columns)"
   ]
  },
  {
   "cell_type": "code",
   "execution_count": null,
   "id": "8e30c569",
   "metadata": {
    "execution": {
     "iopub.execute_input": "2024-06-14T08:20:29.259568Z",
     "iopub.status.busy": "2024-06-14T08:20:29.258872Z",
     "iopub.status.idle": "2024-06-14T08:20:29.271445Z",
     "shell.execute_reply": "2024-06-14T08:20:29.270458Z"
    },
    "papermill": {
     "duration": 0.034996,
     "end_time": "2024-06-14T08:20:29.273663",
     "exception": false,
     "start_time": "2024-06-14T08:20:29.238667",
     "status": "completed"
    },
    "tags": []
   },
   "outputs": [],
   "source": [
    "X['Street'].value_counts(),test['Street'].value_counts()"
   ]
  },
  {
   "cell_type": "code",
   "execution_count": null,
   "id": "2d4ef6cc",
   "metadata": {
    "execution": {
     "iopub.execute_input": "2024-06-14T08:20:29.313835Z",
     "iopub.status.busy": "2024-06-14T08:20:29.313468Z",
     "iopub.status.idle": "2024-06-14T08:20:29.428925Z",
     "shell.execute_reply": "2024-06-14T08:20:29.427820Z"
    },
    "papermill": {
     "duration": 0.138617,
     "end_time": "2024-06-14T08:20:29.431591",
     "exception": false,
     "start_time": "2024-06-14T08:20:29.292974",
     "status": "completed"
    },
    "tags": []
   },
   "outputs": [],
   "source": [
    "from sklearn.preprocessing import OrdinalEncoder"
   ]
  },
  {
   "cell_type": "code",
   "execution_count": null,
   "id": "dab9271f",
   "metadata": {
    "execution": {
     "iopub.execute_input": "2024-06-14T08:20:29.471273Z",
     "iopub.status.busy": "2024-06-14T08:20:29.470893Z",
     "iopub.status.idle": "2024-06-14T08:20:29.507771Z",
     "shell.execute_reply": "2024-06-14T08:20:29.506759Z"
    },
    "papermill": {
     "duration": 0.059002,
     "end_time": "2024-06-14T08:20:29.509897",
     "exception": false,
     "start_time": "2024-06-14T08:20:29.450895",
     "status": "completed"
    },
    "tags": []
   },
   "outputs": [],
   "source": [
    "enc=OrdinalEncoder()\n",
    "ord_encoded=enc.fit_transform(X[categorical_columns])\n",
    "ord_tested=enc.fit_transform(test[categorical_columns])"
   ]
  },
  {
   "cell_type": "code",
   "execution_count": null,
   "id": "0da4ccba",
   "metadata": {
    "execution": {
     "iopub.execute_input": "2024-06-14T08:20:29.550211Z",
     "iopub.status.busy": "2024-06-14T08:20:29.549285Z",
     "iopub.status.idle": "2024-06-14T08:20:29.555524Z",
     "shell.execute_reply": "2024-06-14T08:20:29.554654Z"
    },
    "papermill": {
     "duration": 0.028616,
     "end_time": "2024-06-14T08:20:29.557631",
     "exception": false,
     "start_time": "2024-06-14T08:20:29.529015",
     "status": "completed"
    },
    "tags": []
   },
   "outputs": [],
   "source": [
    "ord_encoded.shape,ord_tested.shape"
   ]
  },
  {
   "cell_type": "code",
   "execution_count": null,
   "id": "4cbca792",
   "metadata": {
    "execution": {
     "iopub.execute_input": "2024-06-14T08:20:29.597602Z",
     "iopub.status.busy": "2024-06-14T08:20:29.597148Z",
     "iopub.status.idle": "2024-06-14T08:20:29.604921Z",
     "shell.execute_reply": "2024-06-14T08:20:29.603958Z"
    },
    "papermill": {
     "duration": 0.030414,
     "end_time": "2024-06-14T08:20:29.607031",
     "exception": false,
     "start_time": "2024-06-14T08:20:29.576617",
     "status": "completed"
    },
    "tags": []
   },
   "outputs": [],
   "source": [
    "X[categorical_columns].columns"
   ]
  },
  {
   "cell_type": "code",
   "execution_count": null,
   "id": "c4bd583e",
   "metadata": {
    "execution": {
     "iopub.execute_input": "2024-06-14T08:20:29.647609Z",
     "iopub.status.busy": "2024-06-14T08:20:29.647243Z",
     "iopub.status.idle": "2024-06-14T08:20:29.655115Z",
     "shell.execute_reply": "2024-06-14T08:20:29.654133Z"
    },
    "papermill": {
     "duration": 0.030435,
     "end_time": "2024-06-14T08:20:29.657133",
     "exception": false,
     "start_time": "2024-06-14T08:20:29.626698",
     "status": "completed"
    },
    "tags": []
   },
   "outputs": [],
   "source": [
    "test[categorical_columns].columns"
   ]
  },
  {
   "cell_type": "code",
   "execution_count": null,
   "id": "80fc54f7",
   "metadata": {
    "execution": {
     "iopub.execute_input": "2024-06-14T08:20:29.697638Z",
     "iopub.status.busy": "2024-06-14T08:20:29.697244Z",
     "iopub.status.idle": "2024-06-14T08:20:29.705050Z",
     "shell.execute_reply": "2024-06-14T08:20:29.704134Z"
    },
    "papermill": {
     "duration": 0.030349,
     "end_time": "2024-06-14T08:20:29.707136",
     "exception": false,
     "start_time": "2024-06-14T08:20:29.676787",
     "status": "completed"
    },
    "tags": []
   },
   "outputs": [],
   "source": [
    "X[categorical_columns].columns"
   ]
  },
  {
   "cell_type": "code",
   "execution_count": null,
   "id": "edb88b82",
   "metadata": {
    "execution": {
     "iopub.execute_input": "2024-06-14T08:20:29.747793Z",
     "iopub.status.busy": "2024-06-14T08:20:29.747400Z",
     "iopub.status.idle": "2024-06-14T08:20:29.755418Z",
     "shell.execute_reply": "2024-06-14T08:20:29.754438Z"
    },
    "papermill": {
     "duration": 0.030809,
     "end_time": "2024-06-14T08:20:29.757459",
     "exception": false,
     "start_time": "2024-06-14T08:20:29.726650",
     "status": "completed"
    },
    "tags": []
   },
   "outputs": [],
   "source": [
    "enc.get_feature_names_out(categorical_columns).shape"
   ]
  },
  {
   "cell_type": "code",
   "execution_count": null,
   "id": "141459d6",
   "metadata": {
    "papermill": {
     "duration": 0.019262,
     "end_time": "2024-06-14T08:20:29.796347",
     "exception": false,
     "start_time": "2024-06-14T08:20:29.777085",
     "status": "completed"
    },
    "tags": []
   },
   "outputs": [],
   "source": []
  },
  {
   "cell_type": "code",
   "execution_count": null,
   "id": "edc959fb",
   "metadata": {
    "execution": {
     "iopub.execute_input": "2024-06-14T08:20:29.836787Z",
     "iopub.status.busy": "2024-06-14T08:20:29.836432Z",
     "iopub.status.idle": "2024-06-14T08:20:29.847864Z",
     "shell.execute_reply": "2024-06-14T08:20:29.846928Z"
    },
    "papermill": {
     "duration": 0.034374,
     "end_time": "2024-06-14T08:20:29.850126",
     "exception": false,
     "start_time": "2024-06-14T08:20:29.815752",
     "status": "completed"
    },
    "tags": []
   },
   "outputs": [],
   "source": [
    "ord_df=pd.DataFrame(ord_encoded,columns=enc.get_feature_names_out(categorical_columns))\n",
    "ord_test=pd.DataFrame(ord_tested,columns=enc.get_feature_names_out(categorical_columns))\n",
    "X_encoded=pd.concat([X,ord_df],axis=1)\n",
    "test_encoded=pd.concat([test,ord_test],axis=1)\n",
    "X_encoded=X_encoded.drop(categorical_columns,axis=1)\n",
    "test_encoded=test_encoded.drop(categorical_columns,axis=1)"
   ]
  },
  {
   "cell_type": "code",
   "execution_count": null,
   "id": "b158cb49",
   "metadata": {
    "execution": {
     "iopub.execute_input": "2024-06-14T08:20:29.891177Z",
     "iopub.status.busy": "2024-06-14T08:20:29.890791Z",
     "iopub.status.idle": "2024-06-14T08:20:29.964046Z",
     "shell.execute_reply": "2024-06-14T08:20:29.963082Z"
    },
    "papermill": {
     "duration": 0.096387,
     "end_time": "2024-06-14T08:20:29.966346",
     "exception": false,
     "start_time": "2024-06-14T08:20:29.869959",
     "status": "completed"
    },
    "tags": []
   },
   "outputs": [],
   "source": [
    "X_encoded.describe()"
   ]
  },
  {
   "cell_type": "code",
   "execution_count": null,
   "id": "2736cfd2",
   "metadata": {
    "execution": {
     "iopub.execute_input": "2024-06-14T08:20:30.009284Z",
     "iopub.status.busy": "2024-06-14T08:20:30.008453Z",
     "iopub.status.idle": "2024-06-14T08:20:30.024689Z",
     "shell.execute_reply": "2024-06-14T08:20:30.023667Z"
    },
    "papermill": {
     "duration": 0.040413,
     "end_time": "2024-06-14T08:20:30.027219",
     "exception": false,
     "start_time": "2024-06-14T08:20:29.986806",
     "status": "completed"
    },
    "tags": []
   },
   "outputs": [],
   "source": [
    "X_encoded.info()"
   ]
  },
  {
   "cell_type": "code",
   "execution_count": null,
   "id": "09cfda22",
   "metadata": {
    "execution": {
     "iopub.execute_input": "2024-06-14T08:20:30.071941Z",
     "iopub.status.busy": "2024-06-14T08:20:30.070968Z",
     "iopub.status.idle": "2024-06-14T08:20:30.138135Z",
     "shell.execute_reply": "2024-06-14T08:20:30.137043Z"
    },
    "papermill": {
     "duration": 0.092214,
     "end_time": "2024-06-14T08:20:30.140379",
     "exception": false,
     "start_time": "2024-06-14T08:20:30.048165",
     "status": "completed"
    },
    "tags": []
   },
   "outputs": [],
   "source": [
    "X_encoded[numerical_columns].describe()"
   ]
  },
  {
   "cell_type": "code",
   "execution_count": null,
   "id": "16f37be0",
   "metadata": {
    "execution": {
     "iopub.execute_input": "2024-06-14T08:20:30.182993Z",
     "iopub.status.busy": "2024-06-14T08:20:30.182624Z",
     "iopub.status.idle": "2024-06-14T08:20:30.201747Z",
     "shell.execute_reply": "2024-06-14T08:20:30.200698Z"
    },
    "papermill": {
     "duration": 0.043074,
     "end_time": "2024-06-14T08:20:30.204095",
     "exception": false,
     "start_time": "2024-06-14T08:20:30.161021",
     "status": "completed"
    },
    "tags": []
   },
   "outputs": [],
   "source": [
    "X_encoded"
   ]
  },
  {
   "cell_type": "code",
   "execution_count": null,
   "id": "379a584e",
   "metadata": {
    "execution": {
     "iopub.execute_input": "2024-06-14T08:20:30.249249Z",
     "iopub.status.busy": "2024-06-14T08:20:30.248811Z",
     "iopub.status.idle": "2024-06-14T08:20:30.255726Z",
     "shell.execute_reply": "2024-06-14T08:20:30.254624Z"
    },
    "papermill": {
     "duration": 0.031681,
     "end_time": "2024-06-14T08:20:30.257771",
     "exception": false,
     "start_time": "2024-06-14T08:20:30.226090",
     "status": "completed"
    },
    "tags": []
   },
   "outputs": [],
   "source": [
    "X_encoded.shape,test_encoded.shape"
   ]
  },
  {
   "cell_type": "code",
   "execution_count": null,
   "id": "02069b87",
   "metadata": {
    "execution": {
     "iopub.execute_input": "2024-06-14T08:20:30.302858Z",
     "iopub.status.busy": "2024-06-14T08:20:30.301909Z",
     "iopub.status.idle": "2024-06-14T08:20:30.306578Z",
     "shell.execute_reply": "2024-06-14T08:20:30.305631Z"
    },
    "papermill": {
     "duration": 0.029172,
     "end_time": "2024-06-14T08:20:30.308745",
     "exception": false,
     "start_time": "2024-06-14T08:20:30.279573",
     "status": "completed"
    },
    "tags": []
   },
   "outputs": [],
   "source": [
    "from sklearn.preprocessing import MinMaxScaler"
   ]
  },
  {
   "cell_type": "code",
   "execution_count": null,
   "id": "f7e4d102",
   "metadata": {
    "execution": {
     "iopub.execute_input": "2024-06-14T08:20:30.352467Z",
     "iopub.status.busy": "2024-06-14T08:20:30.352052Z",
     "iopub.status.idle": "2024-06-14T08:20:30.364642Z",
     "shell.execute_reply": "2024-06-14T08:20:30.363663Z"
    },
    "papermill": {
     "duration": 0.036722,
     "end_time": "2024-06-14T08:20:30.366747",
     "exception": false,
     "start_time": "2024-06-14T08:20:30.330025",
     "status": "completed"
    },
    "tags": []
   },
   "outputs": [],
   "source": [
    "scaler=MinMaxScaler()\n",
    "X_encoded_scaled=scaler.fit_transform(X_encoded)\n",
    "test_encoded_scaled=scaler.fit_transform(test_encoded)"
   ]
  },
  {
   "cell_type": "code",
   "execution_count": null,
   "id": "0c1fbef9",
   "metadata": {
    "execution": {
     "iopub.execute_input": "2024-06-14T08:20:30.411679Z",
     "iopub.status.busy": "2024-06-14T08:20:30.410516Z",
     "iopub.status.idle": "2024-06-14T08:20:30.417796Z",
     "shell.execute_reply": "2024-06-14T08:20:30.416833Z"
    },
    "papermill": {
     "duration": 0.031636,
     "end_time": "2024-06-14T08:20:30.419833",
     "exception": false,
     "start_time": "2024-06-14T08:20:30.388197",
     "status": "completed"
    },
    "tags": []
   },
   "outputs": [],
   "source": [
    "X_encoded_scaled.shape,X_encoded.shape,test_encoded_scaled.shape,test_encoded.shape"
   ]
  },
  {
   "cell_type": "code",
   "execution_count": null,
   "id": "aa2f29f8",
   "metadata": {
    "execution": {
     "iopub.execute_input": "2024-06-14T08:20:30.464030Z",
     "iopub.status.busy": "2024-06-14T08:20:30.463670Z",
     "iopub.status.idle": "2024-06-14T08:20:30.482730Z",
     "shell.execute_reply": "2024-06-14T08:20:30.481750Z"
    },
    "papermill": {
     "duration": 0.044866,
     "end_time": "2024-06-14T08:20:30.486076",
     "exception": false,
     "start_time": "2024-06-14T08:20:30.441210",
     "status": "completed"
    },
    "tags": []
   },
   "outputs": [],
   "source": [
    "X_encoded"
   ]
  },
  {
   "cell_type": "code",
   "execution_count": null,
   "id": "fb5d60f2",
   "metadata": {
    "execution": {
     "iopub.execute_input": "2024-06-14T08:20:30.539649Z",
     "iopub.status.busy": "2024-06-14T08:20:30.538768Z",
     "iopub.status.idle": "2024-06-14T08:20:30.628638Z",
     "shell.execute_reply": "2024-06-14T08:20:30.627679Z"
    },
    "papermill": {
     "duration": 0.115279,
     "end_time": "2024-06-14T08:20:30.631045",
     "exception": false,
     "start_time": "2024-06-14T08:20:30.515766",
     "status": "completed"
    },
    "tags": []
   },
   "outputs": [],
   "source": [
    "from sklearn.model_selection import train_test_split"
   ]
  },
  {
   "cell_type": "code",
   "execution_count": null,
   "id": "f6374c4b",
   "metadata": {
    "execution": {
     "iopub.execute_input": "2024-06-14T08:20:30.691367Z",
     "iopub.status.busy": "2024-06-14T08:20:30.689788Z",
     "iopub.status.idle": "2024-06-14T08:20:30.699760Z",
     "shell.execute_reply": "2024-06-14T08:20:30.698002Z"
    },
    "papermill": {
     "duration": 0.047273,
     "end_time": "2024-06-14T08:20:30.702443",
     "exception": false,
     "start_time": "2024-06-14T08:20:30.655170",
     "status": "completed"
    },
    "tags": []
   },
   "outputs": [],
   "source": [
    "X_train,X_valid,y_train,y_valid=train_test_split(X_encoded_scaled,y,test_size=0.2,random_state=1)"
   ]
  },
  {
   "cell_type": "code",
   "execution_count": null,
   "id": "d2c3d719",
   "metadata": {
    "execution": {
     "iopub.execute_input": "2024-06-14T08:20:30.754584Z",
     "iopub.status.busy": "2024-06-14T08:20:30.753905Z",
     "iopub.status.idle": "2024-06-14T08:20:30.760646Z",
     "shell.execute_reply": "2024-06-14T08:20:30.759364Z"
    },
    "papermill": {
     "duration": 0.031769,
     "end_time": "2024-06-14T08:20:30.762613",
     "exception": false,
     "start_time": "2024-06-14T08:20:30.730844",
     "status": "completed"
    },
    "tags": []
   },
   "outputs": [],
   "source": [
    "len(X_train)"
   ]
  },
  {
   "cell_type": "code",
   "execution_count": null,
   "id": "66251b64",
   "metadata": {
    "execution": {
     "iopub.execute_input": "2024-06-14T08:20:30.808257Z",
     "iopub.status.busy": "2024-06-14T08:20:30.807344Z",
     "iopub.status.idle": "2024-06-14T08:20:30.813958Z",
     "shell.execute_reply": "2024-06-14T08:20:30.813009Z"
    },
    "papermill": {
     "duration": 0.031471,
     "end_time": "2024-06-14T08:20:30.815944",
     "exception": false,
     "start_time": "2024-06-14T08:20:30.784473",
     "status": "completed"
    },
    "tags": []
   },
   "outputs": [],
   "source": [
    "len(X_train),len(X_valid),len(y_train),len(y_valid)"
   ]
  },
  {
   "cell_type": "code",
   "execution_count": null,
   "id": "35609252",
   "metadata": {
    "execution": {
     "iopub.execute_input": "2024-06-14T08:20:30.861838Z",
     "iopub.status.busy": "2024-06-14T08:20:30.860857Z",
     "iopub.status.idle": "2024-06-14T08:20:30.866917Z",
     "shell.execute_reply": "2024-06-14T08:20:30.866006Z"
    },
    "papermill": {
     "duration": 0.031097,
     "end_time": "2024-06-14T08:20:30.868876",
     "exception": false,
     "start_time": "2024-06-14T08:20:30.837779",
     "status": "completed"
    },
    "tags": []
   },
   "outputs": [],
   "source": [
    "X_valid.shape,test_encoded.shape"
   ]
  },
  {
   "cell_type": "code",
   "execution_count": null,
   "id": "1494d961",
   "metadata": {
    "execution": {
     "iopub.execute_input": "2024-06-14T08:20:30.915248Z",
     "iopub.status.busy": "2024-06-14T08:20:30.914228Z",
     "iopub.status.idle": "2024-06-14T08:20:31.019271Z",
     "shell.execute_reply": "2024-06-14T08:20:31.018012Z"
    },
    "papermill": {
     "duration": 0.131366,
     "end_time": "2024-06-14T08:20:31.022269",
     "exception": false,
     "start_time": "2024-06-14T08:20:30.890903",
     "status": "completed"
    },
    "tags": []
   },
   "outputs": [],
   "source": [
    "from sklearn.linear_model import LinearRegression\n",
    "model_1=LinearRegression()\n",
    "model_1.fit(X_train,y_train)\n",
    "y_predict=model_1.predict(X_valid)"
   ]
  },
  {
   "cell_type": "code",
   "execution_count": null,
   "id": "97cc0c18",
   "metadata": {
    "execution": {
     "iopub.execute_input": "2024-06-14T08:20:31.099613Z",
     "iopub.status.busy": "2024-06-14T08:20:31.099081Z",
     "iopub.status.idle": "2024-06-14T08:20:31.104614Z",
     "shell.execute_reply": "2024-06-14T08:20:31.103518Z"
    },
    "papermill": {
     "duration": 0.048302,
     "end_time": "2024-06-14T08:20:31.107700",
     "exception": false,
     "start_time": "2024-06-14T08:20:31.059398",
     "status": "completed"
    },
    "tags": []
   },
   "outputs": [],
   "source": [
    "from sklearn.metrics import mean_absolute_error as mae"
   ]
  },
  {
   "cell_type": "code",
   "execution_count": null,
   "id": "39e962fe",
   "metadata": {
    "execution": {
     "iopub.execute_input": "2024-06-14T08:20:31.165029Z",
     "iopub.status.busy": "2024-06-14T08:20:31.164358Z",
     "iopub.status.idle": "2024-06-14T08:20:31.171622Z",
     "shell.execute_reply": "2024-06-14T08:20:31.170519Z"
    },
    "papermill": {
     "duration": 0.033355,
     "end_time": "2024-06-14T08:20:31.173732",
     "exception": false,
     "start_time": "2024-06-14T08:20:31.140377",
     "status": "completed"
    },
    "tags": []
   },
   "outputs": [],
   "source": [
    "mae(y_predict,y_valid)"
   ]
  },
  {
   "cell_type": "code",
   "execution_count": null,
   "id": "00dba826",
   "metadata": {
    "execution": {
     "iopub.execute_input": "2024-06-14T08:20:31.219927Z",
     "iopub.status.busy": "2024-06-14T08:20:31.218999Z",
     "iopub.status.idle": "2024-06-14T08:20:31.226533Z",
     "shell.execute_reply": "2024-06-14T08:20:31.225608Z"
    },
    "papermill": {
     "duration": 0.03256,
     "end_time": "2024-06-14T08:20:31.228442",
     "exception": false,
     "start_time": "2024-06-14T08:20:31.195882",
     "status": "completed"
    },
    "tags": []
   },
   "outputs": [],
   "source": [
    "y_valid"
   ]
  },
  {
   "cell_type": "code",
   "execution_count": null,
   "id": "521b270a",
   "metadata": {
    "execution": {
     "iopub.execute_input": "2024-06-14T08:20:31.274540Z",
     "iopub.status.busy": "2024-06-14T08:20:31.274159Z",
     "iopub.status.idle": "2024-06-14T08:20:31.283475Z",
     "shell.execute_reply": "2024-06-14T08:20:31.282506Z"
    },
    "papermill": {
     "duration": 0.034776,
     "end_time": "2024-06-14T08:20:31.285494",
     "exception": false,
     "start_time": "2024-06-14T08:20:31.250718",
     "status": "completed"
    },
    "tags": []
   },
   "outputs": [],
   "source": [
    "y_predict"
   ]
  },
  {
   "cell_type": "markdown",
   "id": "f8c77e53",
   "metadata": {
    "papermill": {
     "duration": 0.022079,
     "end_time": "2024-06-14T08:20:31.330026",
     "exception": false,
     "start_time": "2024-06-14T08:20:31.307947",
     "status": "completed"
    },
    "tags": []
   },
   "source": [
    "### 1.Feature Engineering \n",
    "* Polynomial Features "
   ]
  },
  {
   "cell_type": "code",
   "execution_count": null,
   "id": "ba1a5b16",
   "metadata": {
    "execution": {
     "iopub.execute_input": "2024-06-14T08:20:31.376582Z",
     "iopub.status.busy": "2024-06-14T08:20:31.375810Z",
     "iopub.status.idle": "2024-06-14T08:20:31.380571Z",
     "shell.execute_reply": "2024-06-14T08:20:31.379605Z"
    },
    "papermill": {
     "duration": 0.030669,
     "end_time": "2024-06-14T08:20:31.382841",
     "exception": false,
     "start_time": "2024-06-14T08:20:31.352172",
     "status": "completed"
    },
    "tags": []
   },
   "outputs": [],
   "source": [
    "from sklearn.preprocessing import PolynomialFeatures"
   ]
  },
  {
   "cell_type": "code",
   "execution_count": null,
   "id": "6a5fa61e",
   "metadata": {
    "execution": {
     "iopub.execute_input": "2024-06-14T08:20:31.429122Z",
     "iopub.status.busy": "2024-06-14T08:20:31.428720Z",
     "iopub.status.idle": "2024-06-14T08:20:31.445967Z",
     "shell.execute_reply": "2024-06-14T08:20:31.445122Z"
    },
    "papermill": {
     "duration": 0.042898,
     "end_time": "2024-06-14T08:20:31.448237",
     "exception": false,
     "start_time": "2024-06-14T08:20:31.405339",
     "status": "completed"
    },
    "tags": []
   },
   "outputs": [],
   "source": [
    "poly=PolynomialFeatures(degree=2,include_bias=False)\n",
    "X_train_poly=poly.fit_transform(X_train)\n",
    "X_valid_poly=poly.transform(X_valid)\n",
    "test_poly=poly.transform(test_encoded_scaled)"
   ]
  },
  {
   "cell_type": "code",
   "execution_count": null,
   "id": "7d7344ec",
   "metadata": {
    "execution": {
     "iopub.execute_input": "2024-06-14T08:20:31.494917Z",
     "iopub.status.busy": "2024-06-14T08:20:31.494008Z",
     "iopub.status.idle": "2024-06-14T08:20:31.573241Z",
     "shell.execute_reply": "2024-06-14T08:20:31.572089Z"
    },
    "papermill": {
     "duration": 0.105656,
     "end_time": "2024-06-14T08:20:31.576373",
     "exception": false,
     "start_time": "2024-06-14T08:20:31.470717",
     "status": "completed"
    },
    "tags": []
   },
   "outputs": [],
   "source": [
    "model_1.fit(X_train_poly,y_train)\n",
    "y_pred_1=model_1.predict(X_valid_poly)"
   ]
  },
  {
   "cell_type": "code",
   "execution_count": null,
   "id": "c42b816e",
   "metadata": {
    "execution": {
     "iopub.execute_input": "2024-06-14T08:20:31.694408Z",
     "iopub.status.busy": "2024-06-14T08:20:31.693395Z",
     "iopub.status.idle": "2024-06-14T08:20:31.700261Z",
     "shell.execute_reply": "2024-06-14T08:20:31.699403Z"
    },
    "papermill": {
     "duration": 0.061874,
     "end_time": "2024-06-14T08:20:31.702169",
     "exception": false,
     "start_time": "2024-06-14T08:20:31.640295",
     "status": "completed"
    },
    "tags": []
   },
   "outputs": [],
   "source": [
    "mae(y_valid,y_pred_1)"
   ]
  },
  {
   "cell_type": "markdown",
   "id": "25151c80",
   "metadata": {
    "papermill": {
     "duration": 0.022477,
     "end_time": "2024-06-14T08:20:31.747382",
     "exception": false,
     "start_time": "2024-06-14T08:20:31.724905",
     "status": "completed"
    },
    "tags": []
   },
   "source": [
    "By introducing polynomial features and interaction terms, your model can better capture the complexity of the relationships in your data, leading to a significant reduction in prediction error."
   ]
  },
  {
   "cell_type": "code",
   "execution_count": null,
   "id": "a23fcca1",
   "metadata": {
    "execution": {
     "iopub.execute_input": "2024-06-14T08:20:31.793949Z",
     "iopub.status.busy": "2024-06-14T08:20:31.793600Z",
     "iopub.status.idle": "2024-06-14T08:20:31.800413Z",
     "shell.execute_reply": "2024-06-14T08:20:31.799383Z"
    },
    "papermill": {
     "duration": 0.032433,
     "end_time": "2024-06-14T08:20:31.802444",
     "exception": false,
     "start_time": "2024-06-14T08:20:31.770011",
     "status": "completed"
    },
    "tags": []
   },
   "outputs": [],
   "source": [
    "X_train"
   ]
  },
  {
   "cell_type": "markdown",
   "id": "87502ef9",
   "metadata": {
    "papermill": {
     "duration": 0.022585,
     "end_time": "2024-06-14T08:20:31.847817",
     "exception": false,
     "start_time": "2024-06-14T08:20:31.825232",
     "status": "completed"
    },
    "tags": []
   },
   "source": [
    "### Correlation Analysis"
   ]
  },
  {
   "cell_type": "code",
   "execution_count": null,
   "id": "f25f2bf9",
   "metadata": {
    "execution": {
     "iopub.execute_input": "2024-06-14T08:20:31.898852Z",
     "iopub.status.busy": "2024-06-14T08:20:31.898505Z",
     "iopub.status.idle": "2024-06-14T08:20:31.905344Z",
     "shell.execute_reply": "2024-06-14T08:20:31.904313Z"
    },
    "papermill": {
     "duration": 0.036692,
     "end_time": "2024-06-14T08:20:31.907421",
     "exception": false,
     "start_time": "2024-06-14T08:20:31.870729",
     "status": "completed"
    },
    "tags": []
   },
   "outputs": [],
   "source": [
    "X_train"
   ]
  },
  {
   "cell_type": "markdown",
   "id": "100e3b50",
   "metadata": {
    "papermill": {
     "duration": 0.023441,
     "end_time": "2024-06-14T08:20:31.954114",
     "exception": false,
     "start_time": "2024-06-14T08:20:31.930673",
     "status": "completed"
    },
    "tags": []
   },
   "source": [
    "### 3.Variance Threshold\n",
    "* Remove features with low variance, as they provide little information to the model."
   ]
  },
  {
   "cell_type": "code",
   "execution_count": null,
   "id": "719d1dd3",
   "metadata": {
    "execution": {
     "iopub.execute_input": "2024-06-14T08:20:32.015504Z",
     "iopub.status.busy": "2024-06-14T08:20:32.015125Z",
     "iopub.status.idle": "2024-06-14T08:20:32.087514Z",
     "shell.execute_reply": "2024-06-14T08:20:32.086533Z"
    },
    "papermill": {
     "duration": 0.108133,
     "end_time": "2024-06-14T08:20:32.089966",
     "exception": false,
     "start_time": "2024-06-14T08:20:31.981833",
     "status": "completed"
    },
    "tags": []
   },
   "outputs": [],
   "source": [
    "from sklearn.feature_selection import VarianceThreshold"
   ]
  },
  {
   "cell_type": "code",
   "execution_count": null,
   "id": "b26258bd",
   "metadata": {
    "execution": {
     "iopub.execute_input": "2024-06-14T08:20:32.137706Z",
     "iopub.status.busy": "2024-06-14T08:20:32.136511Z",
     "iopub.status.idle": "2024-06-14T08:20:32.144769Z",
     "shell.execute_reply": "2024-06-14T08:20:32.143547Z"
    },
    "papermill": {
     "duration": 0.034128,
     "end_time": "2024-06-14T08:20:32.146839",
     "exception": false,
     "start_time": "2024-06-14T08:20:32.112711",
     "status": "completed"
    },
    "tags": []
   },
   "outputs": [],
   "source": [
    "selector=VarianceThreshold(threshold=0.01)\n",
    "X_train_var=selector.fit_transform(X_train)\n",
    "X_valid_var=selector.transform(X_valid)\n",
    "test_var=selector.transform(test_encoded_scaled)"
   ]
  },
  {
   "cell_type": "code",
   "execution_count": null,
   "id": "83b45439",
   "metadata": {
    "execution": {
     "iopub.execute_input": "2024-06-14T08:20:32.194804Z",
     "iopub.status.busy": "2024-06-14T08:20:32.194004Z",
     "iopub.status.idle": "2024-06-14T08:20:32.202553Z",
     "shell.execute_reply": "2024-06-14T08:20:32.201395Z"
    },
    "papermill": {
     "duration": 0.037494,
     "end_time": "2024-06-14T08:20:32.207097",
     "exception": false,
     "start_time": "2024-06-14T08:20:32.169603",
     "status": "completed"
    },
    "tags": []
   },
   "outputs": [],
   "source": [
    "model_1.fit(X_train_var,y_train)\n",
    "y_pred_2=model_1.predict(X_valid_var)"
   ]
  },
  {
   "cell_type": "code",
   "execution_count": null,
   "id": "2b374f5e",
   "metadata": {
    "execution": {
     "iopub.execute_input": "2024-06-14T08:20:32.286555Z",
     "iopub.status.busy": "2024-06-14T08:20:32.285909Z",
     "iopub.status.idle": "2024-06-14T08:20:32.294850Z",
     "shell.execute_reply": "2024-06-14T08:20:32.293608Z"
    },
    "papermill": {
     "duration": 0.054226,
     "end_time": "2024-06-14T08:20:32.300351",
     "exception": false,
     "start_time": "2024-06-14T08:20:32.246125",
     "status": "completed"
    },
    "tags": []
   },
   "outputs": [],
   "source": [
    "mae(y_valid,y_pred_2)"
   ]
  },
  {
   "cell_type": "markdown",
   "id": "837a8986",
   "metadata": {
    "papermill": {
     "duration": 0.022281,
     "end_time": "2024-06-14T08:20:32.353672",
     "exception": false,
     "start_time": "2024-06-14T08:20:32.331391",
     "status": "completed"
    },
    "tags": []
   },
   "source": [
    "### 4. Feature Importance using tree-based models\n",
    "* Use feature importance scores from Random Forests or XGBoost to select important features."
   ]
  },
  {
   "cell_type": "code",
   "execution_count": null,
   "id": "4e108903",
   "metadata": {
    "execution": {
     "iopub.execute_input": "2024-06-14T08:20:32.401012Z",
     "iopub.status.busy": "2024-06-14T08:20:32.400040Z",
     "iopub.status.idle": "2024-06-14T08:20:32.479292Z",
     "shell.execute_reply": "2024-06-14T08:20:32.478376Z"
    },
    "papermill": {
     "duration": 0.105629,
     "end_time": "2024-06-14T08:20:32.481854",
     "exception": false,
     "start_time": "2024-06-14T08:20:32.376225",
     "status": "completed"
    },
    "tags": []
   },
   "outputs": [],
   "source": [
    "from sklearn.ensemble import RandomForestRegressor"
   ]
  },
  {
   "cell_type": "code",
   "execution_count": null,
   "id": "132a21e6",
   "metadata": {
    "execution": {
     "iopub.execute_input": "2024-06-14T08:20:32.529218Z",
     "iopub.status.busy": "2024-06-14T08:20:32.528819Z",
     "iopub.status.idle": "2024-06-14T08:20:33.515490Z",
     "shell.execute_reply": "2024-06-14T08:20:33.514438Z"
    },
    "papermill": {
     "duration": 1.01303,
     "end_time": "2024-06-14T08:20:33.517738",
     "exception": false,
     "start_time": "2024-06-14T08:20:32.504708",
     "status": "completed"
    },
    "tags": []
   },
   "outputs": [],
   "source": [
    "rf_model=RandomForestRegressor(random_state=1)\n",
    "rf_model.fit(X_train,y_train)"
   ]
  },
  {
   "cell_type": "code",
   "execution_count": null,
   "id": "a9263cce",
   "metadata": {
    "execution": {
     "iopub.execute_input": "2024-06-14T08:20:33.565873Z",
     "iopub.status.busy": "2024-06-14T08:20:33.565501Z",
     "iopub.status.idle": "2024-06-14T08:20:33.579517Z",
     "shell.execute_reply": "2024-06-14T08:20:33.578496Z"
    },
    "papermill": {
     "duration": 0.040728,
     "end_time": "2024-06-14T08:20:33.581813",
     "exception": false,
     "start_time": "2024-06-14T08:20:33.541085",
     "status": "completed"
    },
    "tags": []
   },
   "outputs": [],
   "source": [
    "#Get important features\n",
    "importances=rf_model.feature_importances_\n",
    "\n",
    "#Sort features by importance\n",
    "indices=np.argsort(importances)[::-1]\n",
    "\n",
    "# print the feature ranking\n",
    "for f in range(X_train.shape[1]):\n",
    "    print(f\"{f+1}. Feature {indices[f]}({importances[indices[f]]})\")"
   ]
  },
  {
   "cell_type": "code",
   "execution_count": null,
   "id": "f38299db",
   "metadata": {
    "execution": {
     "iopub.execute_input": "2024-06-14T08:20:33.630613Z",
     "iopub.status.busy": "2024-06-14T08:20:33.630232Z",
     "iopub.status.idle": "2024-06-14T08:20:33.634803Z",
     "shell.execute_reply": "2024-06-14T08:20:33.633641Z"
    },
    "papermill": {
     "duration": 0.031482,
     "end_time": "2024-06-14T08:20:33.636872",
     "exception": false,
     "start_time": "2024-06-14T08:20:33.605390",
     "status": "completed"
    },
    "tags": []
   },
   "outputs": [],
   "source": [
    "#Select top n features \n",
    "n_top_features=30\n",
    "top_features=indices[:n_top_features]"
   ]
  },
  {
   "cell_type": "code",
   "execution_count": null,
   "id": "fef7645d",
   "metadata": {
    "execution": {
     "iopub.execute_input": "2024-06-14T08:20:33.685858Z",
     "iopub.status.busy": "2024-06-14T08:20:33.685489Z",
     "iopub.status.idle": "2024-06-14T08:20:33.694664Z",
     "shell.execute_reply": "2024-06-14T08:20:33.693564Z"
    },
    "papermill": {
     "duration": 0.036854,
     "end_time": "2024-06-14T08:20:33.697560",
     "exception": false,
     "start_time": "2024-06-14T08:20:33.660706",
     "status": "completed"
    },
    "tags": []
   },
   "outputs": [],
   "source": [
    "model_1.fit(X_train,y_train)\n",
    "y_pred_3=model_1.predict(X_valid)"
   ]
  },
  {
   "cell_type": "code",
   "execution_count": null,
   "id": "f9b581fc",
   "metadata": {
    "execution": {
     "iopub.execute_input": "2024-06-14T08:20:33.780798Z",
     "iopub.status.busy": "2024-06-14T08:20:33.780248Z",
     "iopub.status.idle": "2024-06-14T08:20:33.789168Z",
     "shell.execute_reply": "2024-06-14T08:20:33.788043Z"
    },
    "papermill": {
     "duration": 0.057906,
     "end_time": "2024-06-14T08:20:33.796603",
     "exception": false,
     "start_time": "2024-06-14T08:20:33.738697",
     "status": "completed"
    },
    "tags": []
   },
   "outputs": [],
   "source": [
    "mae(y_valid,y_pred_3)"
   ]
  },
  {
   "cell_type": "code",
   "execution_count": null,
   "id": "b6e1b69a",
   "metadata": {
    "execution": {
     "iopub.execute_input": "2024-06-14T08:20:33.852032Z",
     "iopub.status.busy": "2024-06-14T08:20:33.851086Z",
     "iopub.status.idle": "2024-06-14T08:20:33.932116Z",
     "shell.execute_reply": "2024-06-14T08:20:33.931089Z"
    },
    "papermill": {
     "duration": 0.107951,
     "end_time": "2024-06-14T08:20:33.934727",
     "exception": false,
     "start_time": "2024-06-14T08:20:33.826776",
     "status": "completed"
    },
    "tags": []
   },
   "outputs": [],
   "source": [
    "# Create polynomial features for selected features\n",
    "poly = PolynomialFeatures(degree=2, include_bias=False)\n",
    "X_train_poly_rfe = poly.fit_transform(X_train)\n",
    "X_valid_poly_rfe = poly.transform(X_valid)\n",
    "test_poly_rfe=poly.transform(test_encoded_scaled)\n",
    "\n",
    "# Train the linear regression model\n",
    "model_1.fit(X_train_poly_rfe, y_train)\n",
    "\n",
    "# Predict on the test set\n",
    "y_pred_5 = model_1.predict(X_valid_poly_rfe)\n",
    "\n",
    "# Calculate MAE\n",
    "mae(y_valid,y_pred_5)"
   ]
  },
  {
   "cell_type": "markdown",
   "id": "ee7a43c0",
   "metadata": {
    "papermill": {
     "duration": 0.038671,
     "end_time": "2024-06-14T08:20:34.064176",
     "exception": false,
     "start_time": "2024-06-14T08:20:34.025505",
     "status": "completed"
    },
    "tags": []
   },
   "source": [
    "#### 6.Hyperparameter tunning using Grid Search and Random search"
   ]
  },
  {
   "cell_type": "code",
   "execution_count": null,
   "id": "0c2888ce",
   "metadata": {
    "execution": {
     "iopub.execute_input": "2024-06-14T08:20:34.112932Z",
     "iopub.status.busy": "2024-06-14T08:20:34.112583Z",
     "iopub.status.idle": "2024-06-14T08:20:34.117565Z",
     "shell.execute_reply": "2024-06-14T08:20:34.116492Z"
    },
    "papermill": {
     "duration": 0.03157,
     "end_time": "2024-06-14T08:20:34.119673",
     "exception": false,
     "start_time": "2024-06-14T08:20:34.088103",
     "status": "completed"
    },
    "tags": []
   },
   "outputs": [],
   "source": [
    "from sklearn.linear_model import Ridge,Lasso\n",
    "from sklearn.model_selection import GridSearchCV"
   ]
  },
  {
   "cell_type": "code",
   "execution_count": null,
   "id": "e2a66665",
   "metadata": {
    "execution": {
     "iopub.execute_input": "2024-06-14T08:20:34.168940Z",
     "iopub.status.busy": "2024-06-14T08:20:34.168540Z",
     "iopub.status.idle": "2024-06-14T08:20:34.271669Z",
     "shell.execute_reply": "2024-06-14T08:20:34.270605Z"
    },
    "papermill": {
     "duration": 0.130499,
     "end_time": "2024-06-14T08:20:34.274548",
     "exception": false,
     "start_time": "2024-06-14T08:20:34.144049",
     "status": "completed"
    },
    "tags": []
   },
   "outputs": [],
   "source": [
    "param_grid={'alpha':[0.1,1,10,100,1000]}\n",
    "\n",
    "ridge=Ridge()\n",
    "ridge_cv=GridSearchCV(ridge,param_grid,cv=5,scoring='neg_mean_absolute_error')\n",
    "ridge_cv.fit(X_train,y_train)"
   ]
  },
  {
   "cell_type": "code",
   "execution_count": null,
   "id": "8a2cc81f",
   "metadata": {
    "execution": {
     "iopub.execute_input": "2024-06-14T08:20:34.357689Z",
     "iopub.status.busy": "2024-06-14T08:20:34.357163Z",
     "iopub.status.idle": "2024-06-14T08:20:34.369559Z",
     "shell.execute_reply": "2024-06-14T08:20:34.368461Z"
    },
    "papermill": {
     "duration": 0.05726,
     "end_time": "2024-06-14T08:20:34.372690",
     "exception": false,
     "start_time": "2024-06-14T08:20:34.315430",
     "status": "completed"
    },
    "tags": []
   },
   "outputs": [],
   "source": [
    "y_pred_ridge=ridge_cv.predict(X_valid)\n",
    "mae_ridge=mae(y_valid,y_pred_ridge)\n",
    "print(f\"Ridge Regression MAE:{mae_ridge}\")"
   ]
  },
  {
   "cell_type": "markdown",
   "id": "a314a9c4",
   "metadata": {
    "papermill": {
     "duration": 0.023638,
     "end_time": "2024-06-14T08:20:34.425499",
     "exception": false,
     "start_time": "2024-06-14T08:20:34.401861",
     "status": "completed"
    },
    "tags": []
   },
   "source": [
    "#### 7.Ensemble Methods\n",
    "* Bagging\n",
    "* Boosting"
   ]
  },
  {
   "cell_type": "code",
   "execution_count": null,
   "id": "de6ec942",
   "metadata": {
    "execution": {
     "iopub.execute_input": "2024-06-14T08:20:34.474803Z",
     "iopub.status.busy": "2024-06-14T08:20:34.474397Z",
     "iopub.status.idle": "2024-06-14T08:20:34.849146Z",
     "shell.execute_reply": "2024-06-14T08:20:34.847753Z"
    },
    "papermill": {
     "duration": 0.402145,
     "end_time": "2024-06-14T08:20:34.851473",
     "exception": false,
     "start_time": "2024-06-14T08:20:34.449328",
     "status": "completed"
    },
    "tags": []
   },
   "outputs": [],
   "source": [
    "from sklearn.ensemble import GradientBoostingRegressor\n",
    "\n",
    "#Train a Gradient Boosting Regressor\n",
    "gbr=GradientBoostingRegressor()\n",
    "\n",
    "gbr.fit(X_train,y_train)\n",
    "y_pred_gbr=gbr.predict(X_valid)\n",
    "mae_gbr=mae(y_valid,y_pred_gbr)\n",
    "\n",
    "print(f\"Gradient Boosting Regressor MAE:{mae_gbr}\")\n",
    "\n",
    "# Combine Prediction \n",
    "y_pred_combined=(y_pred_ridge+y_pred_gbr)/2\n",
    "mae_combined=mae(y_valid,y_pred_combined)\n",
    "print(f\"Combined Model MAE:{mae_combined}\")"
   ]
  },
  {
   "cell_type": "code",
   "execution_count": null,
   "id": "45eb47b0",
   "metadata": {
    "execution": {
     "iopub.execute_input": "2024-06-14T08:20:34.901094Z",
     "iopub.status.busy": "2024-06-14T08:20:34.900332Z",
     "iopub.status.idle": "2024-06-14T08:20:34.906470Z",
     "shell.execute_reply": "2024-06-14T08:20:34.905546Z"
    },
    "papermill": {
     "duration": 0.032924,
     "end_time": "2024-06-14T08:20:34.908447",
     "exception": false,
     "start_time": "2024-06-14T08:20:34.875523",
     "status": "completed"
    },
    "tags": []
   },
   "outputs": [],
   "source": [
    "mae_gbr"
   ]
  },
  {
   "cell_type": "code",
   "execution_count": null,
   "id": "8ee3b528",
   "metadata": {
    "execution": {
     "iopub.execute_input": "2024-06-14T08:20:34.957699Z",
     "iopub.status.busy": "2024-06-14T08:20:34.956919Z",
     "iopub.status.idle": "2024-06-14T08:20:34.963531Z",
     "shell.execute_reply": "2024-06-14T08:20:34.962519Z"
    },
    "papermill": {
     "duration": 0.034409,
     "end_time": "2024-06-14T08:20:34.966356",
     "exception": false,
     "start_time": "2024-06-14T08:20:34.931947",
     "status": "completed"
    },
    "tags": []
   },
   "outputs": [],
   "source": [
    "mae_ridge"
   ]
  },
  {
   "cell_type": "markdown",
   "id": "0145f335",
   "metadata": {
    "papermill": {
     "duration": 0.023988,
     "end_time": "2024-06-14T08:20:35.015612",
     "exception": false,
     "start_time": "2024-06-14T08:20:34.991624",
     "status": "completed"
    },
    "tags": []
   },
   "source": [
    "#### 7.Advanced Models"
   ]
  },
  {
   "cell_type": "code",
   "execution_count": null,
   "id": "08beea54",
   "metadata": {
    "execution": {
     "iopub.execute_input": "2024-06-14T08:20:35.065818Z",
     "iopub.status.busy": "2024-06-14T08:20:35.065041Z",
     "iopub.status.idle": "2024-06-14T08:20:35.454094Z",
     "shell.execute_reply": "2024-06-14T08:20:35.453126Z"
    },
    "papermill": {
     "duration": 0.416585,
     "end_time": "2024-06-14T08:20:35.456327",
     "exception": false,
     "start_time": "2024-06-14T08:20:35.039742",
     "status": "completed"
    },
    "tags": []
   },
   "outputs": [],
   "source": [
    "import xgboost as xgb\n",
    "\n",
    "xgbr=xgb.XGBRegressor()\n",
    "xgbr.fit(X_train,y_train)\n",
    "\n",
    "#Predict on the valid set\n",
    "y_pred_xgbr=xgbr.predict(X_valid)\n",
    "mae_xgbr=mae(y_valid,y_pred_xgbr)\n",
    "print(f\"XGBoost Regressor MAE:{mae_xgbr}\")"
   ]
  },
  {
   "cell_type": "markdown",
   "id": "3c11b7dc",
   "metadata": {
    "papermill": {
     "duration": 0.023992,
     "end_time": "2024-06-14T08:20:35.504650",
     "exception": false,
     "start_time": "2024-06-14T08:20:35.480658",
     "status": "completed"
    },
    "tags": []
   },
   "source": [
    "#### 8.Cross Validation"
   ]
  },
  {
   "cell_type": "markdown",
   "id": "b787a466",
   "metadata": {
    "papermill": {
     "duration": 0.024904,
     "end_time": "2024-06-14T08:20:35.556299",
     "exception": false,
     "start_time": "2024-06-14T08:20:35.531395",
     "status": "completed"
    },
    "tags": []
   },
   "source": [
    "#### 9.Hyperparameters Tuning for XGBoost"
   ]
  },
  {
   "cell_type": "code",
   "execution_count": null,
   "id": "73160031",
   "metadata": {
    "execution": {
     "iopub.execute_input": "2024-06-14T08:20:35.607044Z",
     "iopub.status.busy": "2024-06-14T08:20:35.606695Z",
     "iopub.status.idle": "2024-06-14T08:20:35.611393Z",
     "shell.execute_reply": "2024-06-14T08:20:35.610376Z"
    },
    "papermill": {
     "duration": 0.031772,
     "end_time": "2024-06-14T08:20:35.613452",
     "exception": false,
     "start_time": "2024-06-14T08:20:35.581680",
     "status": "completed"
    },
    "tags": []
   },
   "outputs": [],
   "source": [
    "import xgboost as xgb\n",
    "from sklearn.model_selection import GridSearchCV"
   ]
  },
  {
   "cell_type": "code",
   "execution_count": null,
   "id": "9ef1a629",
   "metadata": {
    "execution": {
     "iopub.execute_input": "2024-06-14T08:20:35.663352Z",
     "iopub.status.busy": "2024-06-14T08:20:35.662929Z",
     "iopub.status.idle": "2024-06-14T08:20:35.675279Z",
     "shell.execute_reply": "2024-06-14T08:20:35.674113Z"
    },
    "papermill": {
     "duration": 0.039763,
     "end_time": "2024-06-14T08:20:35.677208",
     "exception": false,
     "start_time": "2024-06-14T08:20:35.637445",
     "status": "completed"
    },
    "tags": []
   },
   "outputs": [],
   "source": [
    "sample_submission"
   ]
  },
  {
   "cell_type": "code",
   "execution_count": null,
   "id": "44c248f4",
   "metadata": {
    "execution": {
     "iopub.execute_input": "2024-06-14T08:20:35.726763Z",
     "iopub.status.busy": "2024-06-14T08:20:35.726400Z",
     "iopub.status.idle": "2024-06-14T08:20:35.736445Z",
     "shell.execute_reply": "2024-06-14T08:20:35.735309Z"
    },
    "papermill": {
     "duration": 0.03707,
     "end_time": "2024-06-14T08:20:35.738446",
     "exception": false,
     "start_time": "2024-06-14T08:20:35.701376",
     "status": "completed"
    },
    "tags": []
   },
   "outputs": [],
   "source": [
    "gbr.predict(test_encoded_scaled)"
   ]
  },
  {
   "cell_type": "code",
   "execution_count": null,
   "id": "0883ea0c",
   "metadata": {
    "execution": {
     "iopub.execute_input": "2024-06-14T08:20:35.788782Z",
     "iopub.status.busy": "2024-06-14T08:20:35.787985Z",
     "iopub.status.idle": "2024-06-14T08:20:35.805301Z",
     "shell.execute_reply": "2024-06-14T08:20:35.804385Z"
    },
    "papermill": {
     "duration": 0.045013,
     "end_time": "2024-06-14T08:20:35.807663",
     "exception": false,
     "start_time": "2024-06-14T08:20:35.762650",
     "status": "completed"
    },
    "tags": []
   },
   "outputs": [],
   "source": [
    "sample_submission= pd.read_csv(r'C:\\Users\\suhas\\OneDrive\\Documents\\projects\\prodigy\\first prj\\house-prices-advanced-regression-techniques\\sample_submission.csv')\n",
    "sample_submission['SalePrice']=gbr.predict(test_encoded_scaled)\n",
    "sample_submission.to_csv(r'C:\\Users\\suhas\\OneDrive\\Documents\\projects\\prodigy\\first prj',index=False)"
   ]
  },
  {
   "cell_type": "code",
   "execution_count": null,
   "id": "e2228091",
   "metadata": {
    "execution": {
     "iopub.execute_input": "2024-06-14T08:20:35.860288Z",
     "iopub.status.busy": "2024-06-14T08:20:35.859075Z",
     "iopub.status.idle": "2024-06-14T08:20:35.869038Z",
     "shell.execute_reply": "2024-06-14T08:20:35.868025Z"
    },
    "papermill": {
     "duration": 0.038138,
     "end_time": "2024-06-14T08:20:35.871246",
     "exception": false,
     "start_time": "2024-06-14T08:20:35.833108",
     "status": "completed"
    },
    "tags": []
   },
   "outputs": [],
   "source": [
    "sample_submission.head()"
   ]
  },
  {
   "cell_type": "code",
   "execution_count": null,
   "id": "be5bc8f1",
   "metadata": {
    "papermill": {
     "duration": 0.023983,
     "end_time": "2024-06-14T08:20:35.919836",
     "exception": false,
     "start_time": "2024-06-14T08:20:35.895853",
     "status": "completed"
    },
    "tags": []
   },
   "outputs": [],
   "source": []
  }
 ],
 "metadata": {
  "kaggle": {
   "accelerator": "none",
   "dataSources": [
    {
     "databundleVersionId": 868283,
     "sourceId": 5407,
     "sourceType": "competition"
    }
   ],
   "dockerImageVersionId": 30732,
   "isGpuEnabled": false,
   "isInternetEnabled": true,
   "language": "python",
   "sourceType": "notebook"
  },
  "kernelspec": {
   "display_name": "Python 3",
   "language": "python",
   "name": "python3"
  },
  "language_info": {
   "codemirror_mode": {
    "name": "ipython",
    "version": 3
   },
   "file_extension": ".py",
   "mimetype": "text/x-python",
   "name": "python",
   "nbconvert_exporter": "python",
   "pygments_lexer": "ipython3",
   "version": "3.10.14"
  },
  "papermill": {
   "default_parameters": {},
   "duration": 25.369171,
   "end_time": "2024-06-14T08:20:37.468298",
   "environment_variables": {},
   "exception": null,
   "input_path": "__notebook__.ipynb",
   "output_path": "__notebook__.ipynb",
   "parameters": {},
   "start_time": "2024-06-14T08:20:12.099127",
   "version": "2.5.0"
  }
 },
 "nbformat": 4,
 "nbformat_minor": 5
}
